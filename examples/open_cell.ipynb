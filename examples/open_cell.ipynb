{
  "nbformat": 4,
  "nbformat_minor": 0,
  "metadata": {
    "colab": {
      "provenance": [],
      "private_outputs": true,
      "authorship_tag": "ABX9TyP9qxKvTxfHxtTjNWja4qnQ",
      "include_colab_link": true
    },
    "kernelspec": {
      "name": "python3",
      "display_name": "Python 3"
    },
    "language_info": {
      "name": "python"
    },
    "gpuClass": "standard"
  },
  "cells": [
    {
      "cell_type": "markdown",
      "metadata": {
        "id": "view-in-github",
        "colab_type": "text"
      },
      "source": [
        "<a href=\"https://colab.research.google.com/github/zephyris/tryptag/blob/main/examples/open_cell.ipynb\" target=\"_parent\"><img src=\"https://colab.research.google.com/assets/colab-badge.svg\" alt=\"Open In Colab\"/></a>"
      ]
    },
    {
      "cell_type": "code",
      "execution_count": null,
      "metadata": {
        "id": "t1pr4tbPBEOB"
      },
      "outputs": [],
      "source": [
        "#@title Install tryptag module\n",
        "\n",
        "#@markdown Install the `tryptag` module using `pip`.\n",
        "\n",
        "!pip install git+https://github.com/zephyris/tryptag"
      ]
    },
    {
      "cell_type": "code",
      "source": [
        "#@title Setup tryptag\n",
        "\n",
        "#@markdown The `tryptag` module handles all data retrieval.\n",
        "\n",
        "# import and set up TryTag instance\n",
        "from tryptag import TrypTag\n",
        "tryptag = TrypTag()\n",
        "\n",
        "# import skimage and numpy, for handling and displaying the images\n",
        "import skimage\n",
        "import numpy\n",
        "\n",
        "# filter matplotlib warnings, used by skimage for image display\n",
        "import warnings\n",
        "warnings.filterwarnings( \"ignore\", module = \"matplotlib\\..*\" )\n",
        "\n",
        "# function for quickly displaying some images\n",
        "def quickshow_images(images):\n",
        "  # show all images\n",
        "  print(\"All images\")\n",
        "  skimage.io.imshow_collection(images)\n",
        "  skimage.io.show()\n",
        "  print(\"\")\n",
        "\n",
        "  # show individual channels\n",
        "  image_types = [\"Phase contrast\", \"mNG fluorescence\", \"DNA fluorescence\", \"Thredholded phase contrast\", \"Thresholded DNA\"]\n",
        "  for image_index, image in enumerate(images):\n",
        "    print(image_types[image_index])\n",
        "    skimage.io.imshow(image)\n",
        "    skimage.io.show()\n",
        "    print(\"\")"
      ],
      "metadata": {
        "id": "gx5fO6l8BaU8"
      },
      "execution_count": null,
      "outputs": []
    },
    {
      "cell_type": "code",
      "source": [
        "#@title Open images for a cell\n",
        "\n",
        "#@markdown Cells are opened using their `gene_id` (from [TriTrypDB](https://tritrypdb.org)) and tagged `terminus`, which must be `\"n\"` or `\"c\"`.\n",
        "gene_id = \"Tb927.9.8570\" #@param {type:\"string\"}\n",
        "terminus = \"n\" #@param [\"n\", \"c\"]\n",
        "#@markdown Most cell lines have multiple fields of view and many cells per field of view. You can choose these using `field_index` and `cell_index`.\n",
        "field_index = 2 #@param {type:\"integer\"}\n",
        "cell_index = 8 #@param {type:\"integer\"}\n",
        "\n",
        "#@markdown The `tryptag.open_cell` returns a list of 5 `skimage` images, commonly referred to as `[pha, mng, dna, pth, dth]`:\n",
        "#@markdown 0. `pth` Phase contrast\n",
        "#@markdown 1. `mng` mNG (tagged protein) fluorescence\n",
        "#@markdown 2. `dna` Hoechst 33342 (DNA stain) fluorescence\n",
        "#@markdown 3. `pth` Thresholded phase contrast\n",
        "#@markdown 4. `dth` Thresholded DNA stain\n",
        "\n",
        "#@markdown The first time you open a cell it will take some time for `tryptag` to download the necessary data from [Zenodo](https://zenodo.org).\n",
        "#@markdown The data is saved in a cache directory, so the next time you open any cell for this cell line it will be far quicker.\n",
        "#@markdown Data is in 96 well plate groupings and download time will depend on how many images were captured for that plate - all this data will be cached.\n",
        "#@markdown In Google Colab this cache will (unfortunately) be deleted at the end of each session, but on your computer would be stored permanently.\n",
        "\n",
        "# open the cell\n",
        "cell_images = [pha, mng, dna, pth, dth] = tryptag.open_cell(gene_id, terminus, field_index, cell_index)\n",
        "\n",
        "# show the images\n",
        "quickshow_images(cell_images)"
      ],
      "metadata": {
        "id": "AjfPO6YUuhLq"
      },
      "execution_count": null,
      "outputs": []
    },
    {
      "cell_type": "code",
      "source": [
        "#@title Image processing\n",
        "\n",
        "#@markdown The opened `skimage` images can be processed, analysed and/or saved using `skimage`.\n",
        "#@markdown For example using `skimage.restoration.rolling_ball` to generate a background estimate which can be subtracted.\n",
        "\n",
        "#@markdown `skimage` images are `numpy` 2D `ndarray` objects, and can also be handled using `numpy` tools.\n",
        "#@markdown This includes simple mathematical operations like addition, subtraction, multiplication, etc.\n",
        "#@markdown For example, using `numpy` to measure median background, then subtract this from the image.\n",
        "\n",
        "# mng\n",
        "print(\"mNG fluorescence\")\n",
        "skimage.io.imshow(mng)\n",
        "skimage.io.show()\n",
        "print(\"\")\n",
        "\n",
        "# mng, minus median\n",
        "print(\"... minus the image median and clipped to positive values\")\n",
        "mng_bgs = mng - numpy.median(mng)\n",
        "mng_bgs[mng_bgs < 0] = 0\n",
        "skimage.io.imshow(mng_bgs)\n",
        "skimage.io.show()\n",
        "print(\"\")\n",
        "\n",
        "# mng, with rolling ball filter\n",
        "print(\"... with rolling ball filter, radius 5 px\")\n",
        "mng_rb = skimage.restoration.rolling_ball(mng, radius = 5)\n",
        "skimage.io.imshow(mng - mng_rb)\n",
        "skimage.io.show()\n",
        "print(\"\")\n",
        "\n",
        "# mng, with rolling ball filter\n",
        "print(\"... masked with phase contrast thresholded image\")\n",
        "mng_ma = mng * pth / 255\n",
        "skimage.io.imshow(mng_ma)\n",
        "skimage.io.show()"
      ],
      "metadata": {
        "id": "QJUinhCWAAnY"
      },
      "execution_count": null,
      "outputs": []
    },
    {
      "cell_type": "code",
      "source": [
        "#@title Open field of view\n",
        "\n",
        "#@markdown Fields of view can also be opened from their `gene_id`, tagged `terminus`, and `field_index`.\n",
        "gene_id = \"Tb927.9.8570\" #@param {type:\"string\"}\n",
        "terminus = \"n\" #@param [\"n\", \"c\"]\n",
        "field_index = 1 #@param {type:\"integer\"}\n",
        "\n",
        "#@markdown Like `tryptag.open_cell`, `tryptag.open_field` returns a list of 5 `skimage` images.\n",
        "\n",
        "# open the field\n",
        "field_images = tryptag.open_field(gene_id, terminus, field_index)\n",
        "\n",
        "# show the images\n",
        "quickshow_images(field_images)"
      ],
      "metadata": {
        "id": "-cNUncic4US8"
      },
      "execution_count": null,
      "outputs": []
    },
    {
      "cell_type": "code",
      "source": [
        "#@title Advanced usage\n",
        "\n",
        "#@markdown Custom field of view images can be injected into the opening of cell images using `open_cell_custom`.\n",
        "#@markdown This is particularly useful if doing computationally costly image modifications prior to analysing all of the cells in a field of view.\n",
        "\n",
        "gene_id = \"Tb927.9.8570\" #@param {type:\"string\"}\n",
        "terminus = \"n\" #@param [\"n\", \"c\"]\n",
        "field_index = 1 #@param {type:\"integer\"}\n",
        "cell_index = 8 #@param {type:\"integer\"}\n",
        "\n",
        "#@markdown Select which changes to make:\n",
        "invert_pha = True #@param {type:\"boolean\"}\n",
        "rolling_ball_mng = True #@param {type:\"boolean\"}\n",
        "median_subtract_dna = True #@param {type:\"boolean\"}\n",
        "size_filter_dth = True #@param {type:\"boolean\"}\n",
        "#@markdown Any alterations to the thresholded phase contrast image might change where to find cells.\n",
        "\n",
        "# open field of view\n",
        "field_images = tryptag.open_field(gene_id, terminus, field_index)\n",
        "\n",
        "# setup custom images list\n",
        "custom_images = [None] * 5\n",
        "\n",
        "# do modifications:\n",
        "# invert phase contrast image\n",
        "if invert_pha:\n",
        "  custom_images[0] = 2**16 - field_images[0]\n",
        "\n",
        "# rolling ball subtraction for mng\n",
        "if rolling_ball_mng:\n",
        "  custom_images[1] = field_images[1] - skimage.restoration.rolling_ball(field_images[1], radius = 5)\n",
        "\n",
        "# median subtraction for dna\n",
        "if median_subtract_dna:\n",
        "  custom_images[2] = field_images[2] - numpy.median(field_images[2])\n",
        "\n",
        "# size filter dth\n",
        "if size_filter_dth:\n",
        "  field_images[4] = skimage.measure.label(field_images[4])\n",
        "  custom_images[4] = skimage.morphology.remove_small_objects(field_images[4], min_size = 250)\n",
        "\n",
        "# open cell images, using modified field images\n",
        "cell_images = tryptag.open_cell_custom(gene_id, terminus, field_index, cell_index, images = custom_images)\n",
        "\n",
        "#@markdown More advanced analysis can alter or generate a new thresholded phase contrast image.\n",
        "#@markdown This, along with custom `fill_centre`, `crop_centre` and `angle` parameters for cell locations, can be passed to `open_cell_custom`.\n",
        "\n",
        "quickshow_images(cell_images)"
      ],
      "metadata": {
        "id": "zZxuHSytHs-o"
      },
      "execution_count": null,
      "outputs": []
    },
    {
      "cell_type": "code",
      "source": [
        "#@title Handling errors\n",
        "\n",
        "#@markdown If you try to load a `gene_id`, `terminus`, `field_index` or `cell_index` which does not exist then you'll get an error.\n",
        "\n",
        "bad_gene_id = \"Tb927.12.8570\" #@param {type:\"string\"}\n",
        "bad_terminus = \"o\" #@param [\"n\", \"c\"]\n",
        "bad_field_index = 15 #@param {type:\"integer\"}\n",
        "bad_cell_index = 120 #@param {type:\"integer\"}\n",
        "\n",
        "#@markdown Make sure you:\n",
        "#@markdown 1. either use the `try` `except` syntax,\n",
        "\n",
        "print(\"Try except method:\")\n",
        "try:\n",
        "  images = tryptag.open_cell(bad_gene_id, bad_terminus, bad_field_index, bad_cell_index)\n",
        "except:\n",
        "  print(\"Oops, one of your query values does not exist!\")\n",
        "print(\"\")\n",
        "\n",
        "#@markdown 2. or check that the necessary values in the `tryptag.gene_list` object exist.\n",
        "\n",
        "#@markdown If checking against `tryptag.gene_list` then make sure that data for a target `gene_id` and `terminus` has been retrieved using `fetch_data`.\n",
        "#@markdown `tryptag` only knows how many fields of view and cells there are after fetching the microscopy data.\n",
        "\n",
        "print(\"Manual gene_list check method:\")\n",
        "if bad_gene_id in tryptag.gene_list:\n",
        "  if bad_terminus in tryptag.gene_list[gene_id]:\n",
        "    # fetch the data for this gene_id and terminus\n",
        "    tryptag.fetch_data(bad_gene_id, bad_terminus)\n",
        "    if bad_field_index < len(tryptag.gene_list[bad_gene_id][bad_terminus][\"cells\"]):\n",
        "      if bad_cell_index < len(tryptag.gene_list[bad_gene_id][bad_terminus][\"cells\"][bad_field_index]):\n",
        "        images = tryptag.open_cell(bad_gene_id, bad_terminus, bad_field_index, bad_cell_index)\n",
        "      else:\n",
        "        print(\"cell_index\", bad_cell_index, \"out of range\")\n",
        "    else:\n",
        "      print(\"field_index\", bad_field_index, \"out of range\")\n",
        "  else:\n",
        "    print(\"data for terminus\", bad_terminus, \"not found\")\n",
        "else:\n",
        "  print(\"data for gene_id\", bad_gene_id, \"not found\")"
      ],
      "metadata": {
        "id": "ijPdh4cyPQ7r"
      },
      "execution_count": null,
      "outputs": []
    }
  ]
}